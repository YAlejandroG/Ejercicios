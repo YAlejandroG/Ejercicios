{
 "cells": [
  {
   "cell_type": "code",
   "execution_count": 1,
   "metadata": {},
   "outputs": [],
   "source": [
    "import numpy as np \n",
    "import matplotlib.pylab as plt\n",
    "\n",
    "def bisection(f,xmin,xmax):\n",
    "    error = np.exp(-6)\n",
    "    for i in range(100):\n",
    "        x = (xmax+xmin)/2\n",
    "        if f(xmax)*f(x)>0:\n",
    "            xmax = x\n",
    "        else:\n",
    "            xmin = x\n",
    "        if abs(f(x))<error:\n",
    "            return x\n",
    "        \n",
    "def f(x):\n",
    "    y = np.sqrt(10-x)*np.tan(np.sqrt(10-x))-np.sqrt(x)\n",
    "    return y"
   ]
  },
  {
   "cell_type": "code",
   "execution_count": 2,
   "metadata": {},
   "outputs": [
    {
     "data": {
      "image/png": "[encoded data removed]",
      "text/plain": [
       "<Figure size 432x288 with 1 Axes>"
      ]
     },
     "metadata": {
      "needs_background": "light"
     },
     "output_type": "display_data"
    }
   ],
   "source": [
    "x = np.linspace(0,10,100)\n",
    "plt.figure()\n",
    "plt.plot(x,f(x))\n",
    "plt.xlabel('EB')\n",
    "plt.ylabel('f (EB)')\n",
    "plt.grid()\n",
    "plt.show()"
   ]
  },
  {
   "cell_type": "code",
   "execution_count": 3,
   "metadata": {},
   "outputs": [
    {
     "name": "stdout",
     "output_type": "stream",
     "text": [
      "Cero entre 0 y 7:  0.0043\n",
      "Cero entre 7.5 y 10:  8.5925\n",
      "Cero entre 0 y 10:  0.0043\n"
     ]
    }
   ],
   "source": [
    "print('Cero entre 0 y 7: ','%.4f'%bisection(f,0,7))\n",
    "print('Cero entre 7.5 y 10: ','%.4f'%bisection(f,7.5,10))\n",
    "print('Cero entre 0 y 10: ','%.4f'%bisection(f,0,10))"
   ]
  },
  {
   "cell_type": "code",
   "execution_count": 4,
   "metadata": {},
   "outputs": [
    {
     "data": {
      "image/png": "[encoded data removed]",
      "text/plain": [
       "<Figure size 432x288 with 1 Axes>"
      ]
     },
     "metadata": {
      "needs_background": "light"
     },
     "output_type": "display_data"
    },
    {
     "name": "stdout",
     "output_type": "stream",
     "text": [
      "Cero entre 0 y 10:  8.5939\n"
     ]
    }
   ],
   "source": [
    "x = np.linspace(0.2,9.9,100)\n",
    "def g(x):\n",
    "    y = np.sqrt(x)/np.tan(np.sqrt(10-x))-np.sqrt(10-x)\n",
    "    return y\n",
    "plt.figure()\n",
    "plt.plot(x,g(x))\n",
    "plt.xlabel('E')\n",
    "plt.ylabel('f (E)')\n",
    "plt.grid()\n",
    "plt.show()\n",
    "\n",
    "print('Cero entre 0 y 10: ','%.4f'%bisection(g,0.01,9.99))"
   ]
  },
  {
   "cell_type": "code",
   "execution_count": 5,
   "metadata": {},
   "outputs": [],
   "source": [
    "def newton(f,xmax):\n",
    "    error = np.exp(-6)\n",
    "    dx = 3*np.exp(-1)\n",
    "    for i in range(101):\n",
    "        F = f(xmax)\n",
    "        if abs(F)<error:\n",
    "            return xmax\n",
    "        df = (f(xmax+dx/2)-f(xmax-dx/2))/dx\n",
    "        dx = -F/df\n",
    "        while f(xmax+dx)**2>f(xmax)**2:\n",
    "            dx = dx/2\n",
    "        xmax += dx"
   ]
  },
  {
   "cell_type": "code",
   "execution_count": 6,
   "metadata": {},
   "outputs": [
    {
     "name": "stdout",
     "output_type": "stream",
     "text": [
      "8.592797832843889\n"
     ]
    }
   ],
   "source": [
    "print(newton(g,9))"
   ]
  },
  {
   "cell_type": "code",
   "execution_count": null,
   "metadata": {},
   "outputs": [],
   "source": []
  }
 ],
 "metadata": {
  "kernelspec": {
   "display_name": "Python 3",
   "language": "python",
   "name": "python3"
  },
  "language_info": {
   "codemirror_mode": {
    "name": "ipython",
    "version": 3
   },
   "file_extension": ".py",
   "mimetype": "text/x-python",
   "name": "python",
   "nbconvert_exporter": "python",
   "pygments_lexer": "ipython3",
   "version": "3.7.3"
  }
 },
 "nbformat": 4,
 "nbformat_minor": 2
}
