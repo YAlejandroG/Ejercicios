{
 "cells": [
  {
   "cell_type": "code",
   "execution_count": 7,
   "metadata": {},
   "outputs": [
    {
     "name": "stdout",
     "output_type": "stream",
     "text": [
      "En promedio se debe lanzar el dado  33  veces para obtener minimo 100 puntos\n"
     ]
    }
   ],
   "source": [
    "#Ejercicio1\n",
    "#1.1\n",
    "import random\n",
    "promedioLanzamientos = 0\n",
    "for i in range(1000):\n",
    "    puntaje = 0\n",
    "    lanzamientos = 0\n",
    "    while puntaje<100:\n",
    "        puntaje += int(5*random.random()+1)\n",
    "        lanzamientos += 1\n",
    "    promedioLanzamientos += lanzamientos\n",
    "print(\"En promedio se debe lanzar el dado \", promedioLanzamientos//1000, \" veces para obtener minimo 100 puntos\")"
   ]
  },
  {
   "cell_type": "code",
   "execution_count": 13,
   "metadata": {},
   "outputs": [
    {
     "data": {
      "text/plain": [
       "3.4641016151377544"
      ]
     },
     "execution_count": 13,
     "metadata": {},
     "output_type": "execute_result"
    }
   ],
   "source": [
    "#Ejercicio2\n",
    "#2.1\n",
    "import math\n",
    "def distancia(l1, l2):\n",
    "    distancia = 0\n",
    "    for i in range (len(l1)):\n",
    "        distancia += (l1[i]-l2[i])**2\n",
    "    return math.sqrt(distancia)\n",
    "distancia([0,1,2], [2,3,4])"
   ]
  },
  {
   "cell_type": "code",
   "execution_count": 17,
   "metadata": {},
   "outputs": [
    {
     "name": "stdout",
     "output_type": "stream",
     "text": [
      "1.0\n",
      "6.283185307179586\n"
     ]
    },
    {
     "data": {
      "text/plain": [
       "5"
      ]
     },
     "execution_count": 17,
     "metadata": {},
     "output_type": "execute_result"
    }
   ],
   "source": [
    "#Ejercicio3\n",
    "#3.1\n",
    "class Circle:\n",
    "    def __init__(self, radius):\n",
    "        self.radius = radius \n",
    "    def perimeter(self):\n",
    "        return 2*math.pi*self.radius\n",
    "c1 = Circle(1.0)\n",
    "print (c1.radius)\n",
    "print (c1.perimeter())\n",
    "#3.2\n",
    "class Vector3D:\n",
    "    def __init__(self, x, y, z):\n",
    "        self.x = x\n",
    "        self.y = y\n",
    "        self.z = z\n",
    "    def dot(self, vector2):\n",
    "        dotProduct = self.x*vector2.x + self.y*vector2.y + self.z*vector2.z\n",
    "        return dotProduct\n",
    "v = Vector3D(2, 0, 1)\n",
    "w = Vector3D(1, -1, 3)\n",
    "v.dot(w)"
   ]
  },
  {
   "cell_type": "code",
   "execution_count": 4,
   "metadata": {},
   "outputs": [
    {
     "name": "stdout",
     "output_type": "stream",
     "text": [
      "[0, 1, 2, 3, 4, 5, 6, 7, 8, 9]\n",
      "[7, 5, 3, 6, 4, 8, 2, 9, 1, 0]\n"
     ]
    }
   ],
   "source": [
    "#Ejercicio4\n",
    "#4.1\n",
    "import random\n",
    "l3 = [0, 1, 2, 3, 4, 5, 6, 7, 8, 9]\n",
    "print (l3)\n",
    "random.shuffle(l3)\n",
    "print (l3)"
   ]
  },
  {
   "cell_type": "code",
   "execution_count": null,
   "metadata": {},
   "outputs": [],
   "source": []
  }
 ],
 "metadata": {
  "kernelspec": {
   "display_name": "Python 3",
   "language": "python",
   "name": "python3"
  },
  "language_info": {
   "codemirror_mode": {
    "name": "ipython",
    "version": 3
   },
   "file_extension": ".py",
   "mimetype": "text/x-python",
   "name": "python",
   "nbconvert_exporter": "python",
   "pygments_lexer": "ipython3",
   "version": "3.7.3"
  }
 },
 "nbformat": 4,
 "nbformat_minor": 2
}
