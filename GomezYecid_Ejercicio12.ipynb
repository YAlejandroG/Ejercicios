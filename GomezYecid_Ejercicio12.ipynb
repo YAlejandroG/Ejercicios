{
 "cells": [
  {
   "cell_type": "code",
   "execution_count": 5,
   "metadata": {},
   "outputs": [
    {
     "name": "stdout",
     "output_type": "stream",
     "text": [
      "Método cuadratura Gaussiana, I= 1.5538474361182695\n"
     ]
    }
   ],
   "source": [
    "import numpy as np\n",
    "\n",
    "def F(x):\n",
    "    y = np.cos(x)*np.exp(-(x**2)-x)\n",
    "    return y\n",
    "\n",
    "def gauss(f, N):\n",
    "    integral = 0\n",
    "    x0, w0 = np.polynomial.legendre.leggauss(N+1)\n",
    "    x = x0/(1-x0**2)\n",
    "    w = w0*(1+x0**2)/(1-x0**2)**2\n",
    "    integral = sum(f(x)*w)\n",
    "    return integral\n",
    "\n",
    "print('Método cuadratura Gaussiana, I=',gauss(F,20))"
   ]
  },
  {
   "cell_type": "code",
   "execution_count": 19,
   "metadata": {},
   "outputs": [
    {
     "name": "stderr",
     "output_type": "stream",
     "text": [
      "C:\\Anaconda\\lib\\site-packages\\ipykernel_launcher.py:21: DeprecationWarning: The truth value of an empty array is ambiguous. Returning False, but in future this will result in an error. Use `array.size > 0` to check that an array is not empty.\n"
     ]
    },
    {
     "name": "stdout",
     "output_type": "stream",
     "text": [
      "Método Monte Carlo, I= 1.5437668215497296\n"
     ]
    }
   ],
   "source": [
    "def f(x):\n",
    "    y = np.cos(x)\n",
    "    return y\n",
    "\n",
    "def g(x):\n",
    "    y = np.exp(-(x**2)-x)\n",
    "    return y\n",
    "\n",
    "def metropolisHastings(f,N):\n",
    "    x0 = np.random.random()\n",
    "    x = [x0]\n",
    "    delta = 1\n",
    "    for i in range(N):\n",
    "        xn = x0+delta\n",
    "        if (f(x0)<f(xn)):\n",
    "            x0 = xn\n",
    "            x.append(xn)\n",
    "        else:\n",
    "            c = f(xn)/f(x0)\n",
    "        p = np.random.rand(0,1)\n",
    "        if (c>p):\n",
    "            x0 = xn\n",
    "            x.append(xn)\n",
    "        else:\n",
    "            x.append(x0)\n",
    "    return x\n",
    "\n",
    "def monteCarlo(f,g,a,b,N):\n",
    "    x = metropolisHastings(g,N)\n",
    "    integral = (b-a)*np.sum(f(x))/N\n",
    "    return integral\n",
    "\n",
    "I = monteCarlo(f,g,np.pi/2,np.pi,100000)\n",
    "print('Método Monte Carlo, I=',I)"
   ]
  },
  {
   "cell_type": "code",
   "execution_count": null,
   "metadata": {},
   "outputs": [],
   "source": [
    "def f1(x):\n",
    "    y = np.cos((np.sum(x**2))**0.5)\n",
    "    return y\n",
    "\n",
    "def g1(x):\n",
    "    y = np.exp(-(np.sum(x**2))\n",
    "    return y"
   ]
  }
 ],
 "metadata": {
  "kernelspec": {
   "display_name": "Python 3",
   "language": "python",
   "name": "python3"
  },
  "language_info": {
   "codemirror_mode": {
    "name": "ipython",
    "version": 3
   },
   "file_extension": ".py",
   "mimetype": "text/x-python",
   "name": "python",
   "nbconvert_exporter": "python",
   "pygments_lexer": "ipython3",
   "version": "3.7.3"
  }
 },
 "nbformat": 4,
 "nbformat_minor": 2
}
