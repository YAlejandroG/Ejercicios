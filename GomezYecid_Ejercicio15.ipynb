{
 "cells": [
  {
   "cell_type": "code",
   "execution_count": 20,
   "metadata": {},
   "outputs": [
    {
     "name": "stdout",
     "output_type": "stream",
     "text": [
      "Matriz invesa de A = [[ 0.19771863  0.06463878  0.00760456]\n",
      " [-0.121673    0.11406844  0.07224335]\n",
      " [-0.03422053 -0.03041825  0.11406844]]\n",
      "A*Ainv = [[1. 0. 0.]\n",
      " [0. 1. 0.]\n",
      " [0. 0. 1.]]\n"
     ]
    }
   ],
   "source": [
    "import numpy as np\n",
    "import matplotlib.pylab as plt\n",
    "\n",
    "A = [[4,-2,1],\n",
    "    [3,6,-4],\n",
    "    [2,1,8]]\n",
    "\n",
    "Ainv = np.linalg.inv(A)\n",
    "print('Matriz invesa de A =',Ainv)\n",
    "mul = np.matmul(A,Ainv)\n",
    "mul[mul<1E-10] = 0\n",
    "print('A*Ainv =',mul)"
   ]
  },
  {
   "cell_type": "code",
   "execution_count": 11,
   "metadata": {},
   "outputs": [
    {
     "name": "stdout",
     "output_type": "stream",
     "text": [
      "x1=  [ 1. -2.  4.] , x2=  [ 0.31178707 -0.03802281  2.67680608] , x3=  [ 2.31939163 -2.96577947  4.79087452]\n"
     ]
    }
   ],
   "source": [
    "b1 = [12,-25,32]\n",
    "x1 = np.linalg.tensorsolve(A,b1)\n",
    "b2 = [4,-10,22]\n",
    "x2 = np.linalg.tensorsolve(A,b2)\n",
    "b3 = [20,-30,40]\n",
    "x3 = np.linalg.tensorsolve(A,b3)\n",
    "print('x1= ',x1,', x2= ',x2,', x3= ',x3)"
   ]
  },
  {
   "cell_type": "code",
   "execution_count": 15,
   "metadata": {},
   "outputs": [
    {
     "name": "stdout",
     "output_type": "stream",
     "text": [
      "alfa=  1 ,beta=  2\n",
      "Eigenvalues=  [1.+2.j 1.-2.j]\n",
      "Eigenvectors: v1 =  [0.        -0.70710678j 0.70710678+0.j        ]  v2 =  [0.        +0.70710678j 0.70710678-0.j        ]\n"
     ]
    }
   ],
   "source": [
    "alfa = 1\n",
    "beta = 2\n",
    "A0 = [[alfa,beta],[-beta,alfa]]\n",
    "val0, vect0 = np.linalg.eig(A0)\n",
    "print('alfa= ',alfa,',beta= ',beta)\n",
    "print('Eigenvalues= ',val0)\n",
    "print('Eigenvectors: v1 = ',vect0[:,0],' v2 = ',vect0[:,1])"
   ]
  },
  {
   "cell_type": "code",
   "execution_count": 10,
   "metadata": {},
   "outputs": [
    {
     "name": "stdout",
     "output_type": "stream",
     "text": [
      "Eigenvalues=  [-3.  5. -3.]\n",
      "Eigenvectors: -3 =  [-0.95257934  0.27216553 -0.13608276]  5 =  [ 0.40824829  0.81649658 -0.40824829]  -3 =  [-0.02296692  0.83534731  0.54924256]\n"
     ]
    }
   ],
   "source": [
    "A1 = [[-2,2,-3],\n",
    "     [2,1,-6],\n",
    "     [-1,-2,0]]\n",
    "val, vect = np.linalg.eig(A1)\n",
    "print('Eigenvalues= ',val)\n",
    "print('Eigenvectors: v1 = ',vect[:,0],' v2 = ',vect[:,1],' v3 = ',vect[:,2])"
   ]
  },
  {
   "cell_type": "code",
   "execution_count": 19,
   "metadata": {},
   "outputs": [
    {
     "name": "stdout",
     "output_type": "stream",
     "text": [
      "y =  [ 1.  0.  0.  0.  0.  0.  0.  0. -0. -0. -0.  0.  0.  0. -0.  0. -0. -0.\n",
      "  0. -0.  0.  0.  0. -0.  0.  0. -0.  0.  0. -0. -0.  0.  0. -0. -0. -0.\n",
      "  0. -0.  0.  0. -0. -0.  0.  0.  0.  0.  0. -0.  0. -0.  0. -0.  0.  0.\n",
      "  0. -0.  0.  0.  0. -0.  0.  0.  0.  0.  0.  0.  0. -0. -0. -0.  0.  0.\n",
      " -0.  0. -0.  0. -0.  0.  0.  0.  0.  0. -0.  0. -0. -0. -0. -0.  0. -0.\n",
      "  0.  0. -0.  0.  0.  0. -0. -0.  0.  0.]\n"
     ]
    }
   ],
   "source": [
    "A2 = np.zeros((100,100))\n",
    "b0 = np.zeros(100)\n",
    "for i in range(100):\n",
    "    for j in range(100):\n",
    "        A2[i,j] = 1/(i+j+1)\n",
    "    b0[i] = 1/(i+1)\n",
    "    \n",
    "y = np.linalg.tensorsolve(A2,b0)\n",
    "print('y = ',y)"
   ]
  },
  {
   "cell_type": "code",
   "execution_count": 48,
   "metadata": {},
   "outputs": [],
   "source": [
    "def newtonDanimate(x,n=9):\n",
    "    eps = np.exp(-6)\n",
    "    d = np.zeros((n,n))\n",
    "    f = np.zeros(n)\n",
    "    \n",
    "    plt.figure()\n",
    "    L1 = 3\n",
    "    L2 = 4\n",
    "    L3 = 4\n",
    "    xa = x[3]*L1\n",
    "    ya = x[0]*L1\n",
    "    xb = xa+L2*x[4]\n",
    "    yb = ya+L2*x[1]\n",
    "    xc = xb+L3*x[5]\n",
    "    yc = yb-L3*x[2]\n",
    "    mx = 100\n",
    "    bx = -500\n",
    "    my = -100\n",
    "    by = 400    \n",
    "    xp = [bx,mx*xa+bx,mx*xb+bx,mx*xc+bx]\n",
    "    yp = [by,my*ya+by,my*yb+by,my*yc+by]\n",
    "    plt.plot(xp,yp,c='g',label='Inicial')\n",
    "    plt.legend()\n",
    "    plt.title('String and masses configuration')\n",
    "    plt.savefig('newtonNDanimate.png')\n",
    "    \n",
    "    "
   ]
  },
  {
   "cell_type": "code",
   "execution_count": 49,
   "metadata": {},
   "outputs": [
    {
     "data": {
      "image/png": "[encoded data removed]",
      "text/plain": [
       "<Figure size 432x288 with 1 Axes>"
      ]
     },
     "metadata": {
      "needs_background": "light"
     },
     "output_type": "display_data"
    }
   ],
   "source": [
    "xf = np.array([0.5,0.5,0.5,0.5,0.5,0.5,0.5,1,1,1])\n",
    "newtonDanimate(xf)"
   ]
  },
  {
   "cell_type": "code",
   "execution_count": null,
   "metadata": {},
   "outputs": [],
   "source": []
  }
 ],
 "metadata": {
  "kernelspec": {
   "display_name": "Python 3",
   "language": "python",
   "name": "python3"
  },
  "language_info": {
   "codemirror_mode": {
    "name": "ipython",
    "version": 3
   },
   "file_extension": ".py",
   "mimetype": "text/x-python",
   "name": "python",
   "nbconvert_exporter": "python",
   "pygments_lexer": "ipython3",
   "version": "3.7.3"
  }
 },
 "nbformat": 4,
 "nbformat_minor": 2
}
