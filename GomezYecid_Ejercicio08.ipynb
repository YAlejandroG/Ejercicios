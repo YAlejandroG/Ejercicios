{
 "cells": [
  {
   "cell_type": "code",
   "execution_count": 70,
   "metadata": {},
   "outputs": [
    {
     "name": "stdout",
     "output_type": "stream",
     "text": [
      "Direct Pi 100 repeticiones, N=4000:  3141.600 -> 3.142\n"
     ]
    }
   ],
   "source": [
    "#Ejercicio 08 Primera parte\n",
    "#1.1\n",
    "import random\n",
    "\n",
    "def directPi(N):\n",
    "    n=0\n",
    "    for i in range(N):\n",
    "        x = 2*(random.random()-0.5)\n",
    "        y = 2*(random.random()-0.5)\n",
    "        if(x**2+y**2<1):\n",
    "            n+=1\n",
    "    return n\n",
    "pi0=[]\n",
    "for i in range(100):\n",
    "    pi0.append(directPi(4000))\n",
    "pi=sum(pi0)/100\n",
    "pif=pi/1000\n",
    "print('Direct Pi 100 repeticiones, N=4000: ', '%.3f'%pi, '->', '%.3f'%pif)"
   ]
  },
  {
   "cell_type": "code",
   "execution_count": 71,
   "metadata": {},
   "outputs": [
    {
     "name": "stdout",
     "output_type": "stream",
     "text": [
      "Markov Pi 100 repeticiones, N=4000 y delta=0,3:  3135.510 -> 3.136\n"
     ]
    }
   ],
   "source": [
    "#1.2\n",
    "def markovPi(N,d):\n",
    "    n=0\n",
    "    x,y=1,1\n",
    "    for i in range(N):\n",
    "        dx = 2*d*(random.random()-0.5)\n",
    "        dy = 2*d*(random.random()-0.5)\n",
    "        if(abs(x+dx)<1 and abs(y+dy)<1):\n",
    "            x+=dx\n",
    "            y+=dy\n",
    "        if(x**2+y**2<1):\n",
    "            n+=1\n",
    "    return n\n",
    "pi0=[]\n",
    "for i in range(100):\n",
    "    pi0.append(markovPi(4000,0.3))\n",
    "pi=sum(pi0)/100\n",
    "pif=pi/1000\n",
    "print('Markov Pi 100 repeticiones, N=4000 y delta=0,3: ', '%.3f'%pi, '->', '%.3f'%pif)"
   ]
  },
  {
   "cell_type": "code",
   "execution_count": 72,
   "metadata": {},
   "outputs": [
    {
     "name": "stdout",
     "output_type": "stream",
     "text": [
      "Mark two site p(0)=0.4, p(1)=0.6\n",
      "0\n",
      "1\n",
      "0\n",
      "1\n",
      "0\n",
      "1\n",
      "1\n",
      "1\n",
      "1\n",
      "0\n",
      "1\n",
      "1\n",
      "0\n",
      "0\n",
      "0\n",
      "1\n",
      "1\n",
      "1\n",
      "1\n",
      "1\n"
     ]
    }
   ],
   "source": [
    "#1.8\n",
    "def markovTwoSite(k):\n",
    "    if(k==0): \n",
    "        l=1\n",
    "    if(k==1): \n",
    "        l=0\n",
    "    def probabilidad(n):\n",
    "        if n==0:\n",
    "            return 0.4\n",
    "        else:\n",
    "            return 0.6\n",
    "    gamma = probabilidad(l)/probabilidad(k)\n",
    "    if random.random()<gamma:\n",
    "        k = l\n",
    "    return k\n",
    "k = 0\n",
    "print('Mark two site p(0)=0.4, p(1)=0.6')\n",
    "for i in range(20):\n",
    "    k = markovTwoSite(k)\n",
    "    print(markovTwoSite(k))"
   ]
  },
  {
   "cell_type": "code",
   "execution_count": 92,
   "metadata": {},
   "outputs": [
    {
     "data": {
      "image/png": "[encoded data removed]",
      "text/plain": [
       "<Figure size 432x288 with 1 Axes>"
      ]
     },
     "metadata": {
      "needs_background": "light"
     },
     "output_type": "display_data"
    }
   ],
   "source": [
    "#1.18\n",
    "import numpy as np\n",
    "import matplotlib.pyplot as plt\n",
    "\n",
    "def gauss(sigma):\n",
    "    phi = random.random()*2*math.pi\n",
    "    gamma = -math.log(random.random())\n",
    "    r = sigma*math.sqrt(2*gamma)\n",
    "    x = r*math.cos(phi)\n",
    "    y = r*math.sin(phi)\n",
    "    return x, y\n",
    "y1=[]\n",
    "for i in range(10000):\n",
    "    x0,y0=gauss(1.0)\n",
    "    y1.append(x0)\n",
    "    y1.append(y0)\n",
    "x = np.linspace(-3, 3, 100)\n",
    "y = 3750/(2*np.pi)*np.exp(-0.5*((x)**2))\n",
    "\n",
    "plt.figure()\n",
    "plt.plot(x, y)\n",
    "plt.hist(y1, 100)\n",
    "plt.title('Gaussiana')\n",
    "plt.savefig('Gausiana.png')"
   ]
  },
  {
   "cell_type": "code",
   "execution_count": null,
   "metadata": {},
   "outputs": [],
   "source": []
  }
 ],
 "metadata": {
  "kernelspec": {
   "display_name": "Python 3",
   "language": "python",
   "name": "python3"
  },
  "language_info": {
   "codemirror_mode": {
    "name": "ipython",
    "version": 3
   },
   "file_extension": ".py",
   "mimetype": "text/x-python",
   "name": "python",
   "nbconvert_exporter": "python",
   "pygments_lexer": "ipython3",
   "version": "3.7.3"
  }
 },
 "nbformat": 4,
 "nbformat_minor": 2
}
