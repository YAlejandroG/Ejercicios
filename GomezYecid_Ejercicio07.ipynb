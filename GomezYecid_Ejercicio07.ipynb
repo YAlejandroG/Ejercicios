{
 "cells": [
  {
   "cell_type": "code",
   "execution_count": 43,
   "metadata": {},
   "outputs": [],
   "source": [
    "#Ejercicio 07 Primera parte\n",
    "import random\n",
    "\n",
    "a = [1,1,2,2,3,3,4,4,5,5,6,6,7,7,8,8,9,9,10,10]\n",
    "def intentosPares(l):\n",
    "    n = []\n",
    "    m = random.choice(l)\n",
    "    n.append(m)\n",
    "    l.remove(m)\n",
    "    x = 2\n",
    "    for i in range(11):\n",
    "        m = random.choice(l)\n",
    "        for j in n:\n",
    "            if m == j:\n",
    "                return x \n",
    "        x+=1     \n",
    "        n.append(m)\n",
    "        l.remove(m)"
   ]
  },
  {
   "cell_type": "code",
   "execution_count": 13,
   "metadata": {},
   "outputs": [
    {
     "name": "stdout",
     "output_type": "stream",
     "text": [
      "Se deben sacar  5.679  medias en promedio del cajón para asegurar que se tiene un par del mismo color.\n"
     ]
    }
   ],
   "source": [
    "intentos = []\n",
    "for i in range(10000):\n",
    "    b = a.copy()\n",
    "    intentos.append(intentosPares(b))\n",
    "prom = sum(intentos)/len(intentos)\n",
    "print ('Se deben sacar ', '%.3f'%prom, ' medias en promedio del cajón para asegurar que se tiene un par del mismo color.')"
   ]
  },
  {
   "cell_type": "code",
   "execution_count": 112,
   "metadata": {},
   "outputs": [
    {
     "name": "stdout",
     "output_type": "stream",
     "text": [
      "La probalidad de que caigan 50 caras y 50 sellos es:  0.0832\n"
     ]
    }
   ],
   "source": [
    "#Segunda parte\n",
    "moneda = ['C', 'S']\n",
    "probabilidad = 0\n",
    "for i in range(5000):\n",
    "    evento = []\n",
    "    for j in range(100):\n",
    "        evento.append(random.choice(moneda))\n",
    "    caras = 0\n",
    "    for k in evento:\n",
    "        if k == 'C':\n",
    "            caras+=1\n",
    "    if caras == 50:\n",
    "        probabilidad+=1\n",
    "probabilidad /=5000\n",
    "print('La probalidad de que caigan 50 caras y 50 sellos es: ', probabilidad)"
   ]
  },
  {
   "cell_type": "code",
   "execution_count": 140,
   "metadata": {},
   "outputs": [],
   "source": [
    "dias = []\n",
    "for i in range(365):\n",
    "    dias.append(i+1)\n",
    "def pCumpleaños(n):\n",
    "    prob = 0\n",
    "    for i in range(1000):\n",
    "        p = []\n",
    "        prob2 = 0\n",
    "        for j in range(n):\n",
    "            p.append(random.choice(dias))\n",
    "        for j in p:\n",
    "            p.remove(j)\n",
    "            for k in p:\n",
    "                if j==k:\n",
    "                    prob2+=1\n",
    "        if prob2>0:\n",
    "            prob+=1\n",
    "    prob/=1000\n",
    "    return prob"
   ]
  },
  {
   "cell_type": "code",
   "execution_count": 141,
   "metadata": {},
   "outputs": [
    {
     "name": "stdout",
     "output_type": "stream",
     "text": [
      "El mínimo número de personas necesario para que la probabilidad de que dos o más personas tengan el mismo día de cumpleaños supere 0.5 es: 26\n"
     ]
    }
   ],
   "source": [
    "for i in range (20,40):\n",
    "    p = pCumpleaños(i)\n",
    "    if p>0.5:\n",
    "        print ('El mínimo número de personas necesario para que la probabilidad de que dos o más personas tengan el mismo día de cumpleaños supere 0.5 es:', i)\n",
    "        break"
   ]
  },
  {
   "cell_type": "code",
   "execution_count": 145,
   "metadata": {},
   "outputs": [
    {
     "name": "stdout",
     "output_type": "stream",
     "text": [
      "El mínimo número de personas necesario para que la probabilidad de que dos o más personas tengan el mismo día de cumpleaños supere 0.9 es: 47\n"
     ]
    }
   ],
   "source": [
    "for i in range (40,50):\n",
    "    p = pCumpleaños(i)\n",
    "    if p>0.9:\n",
    "        print ('El mínimo número de personas necesario para que la probabilidad de que dos o más personas tengan el mismo día de cumpleaños supere 0.9 es:', i)\n",
    "        break"
   ]
  },
  {
   "cell_type": "code",
   "execution_count": null,
   "metadata": {},
   "outputs": [],
   "source": []
  }
 ],
 "metadata": {
  "kernelspec": {
   "display_name": "Python 3",
   "language": "python",
   "name": "python3"
  },
  "language_info": {
   "codemirror_mode": {
    "name": "ipython",
    "version": 3
   },
   "file_extension": ".py",
   "mimetype": "text/x-python",
   "name": "python",
   "nbconvert_exporter": "python",
   "pygments_lexer": "ipython3",
   "version": "3.7.3"
  }
 },
 "nbformat": 4,
 "nbformat_minor": 2
}
