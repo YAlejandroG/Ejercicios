{
 "cells": [
  {
   "cell_type": "code",
   "execution_count": 28,
   "metadata": {},
   "outputs": [],
   "source": [
    "import numpy as np\n",
    "import matplotlib.pylab as plt\n",
    "\n",
    "def derivate(f,x,h):\n",
    "    dx = np.imag(f(x+1j*h))/h\n",
    "    return dx\n",
    "\n",
    "def f(x):\n",
    "    y = np.sin(x)**5\n",
    "    return y"
   ]
  },
  {
   "cell_type": "code",
   "execution_count": 50,
   "metadata": {},
   "outputs": [
    {
     "data": {
      "image/png": "[encoded data removed]",
      "text/plain": [
       "<Figure size 432x288 with 1 Axes>"
      ]
     },
     "metadata": {
      "needs_background": "light"
     },
     "output_type": "display_data"
    }
   ],
   "source": [
    "h = np.linspace(10**(-6),10**(-2),100)\n",
    "x = np.pi/2\n",
    "dx = derivate(f,x,h)\n",
    "plt.plot(h,dx)\n",
    "plt.xscale('log')\n",
    "plt.xlabel('h')\n",
    "plt.ylabel('df/dx')\n",
    "plt.grid()\n",
    "plt.show()"
   ]
  },
  {
   "cell_type": "code",
   "execution_count": 51,
   "metadata": {},
   "outputs": [
    {
     "data": {
      "image/png": "[encoded data removed]",
      "text/plain": [
       "<Figure size 432x288 with 1 Axes>"
      ]
     },
     "metadata": {
      "needs_background": "light"
     },
     "output_type": "display_data"
    }
   ],
   "source": [
    "dxReal = 5*np.cos(x)*np.sin(x)**4\n",
    "error = (dx-dxReal)/dxReal\n",
    "plt.plot(h,error)\n",
    "plt.xscale('log')\n",
    "plt.xlabel('h')\n",
    "plt.ylabel('Error')\n",
    "plt.grid()\n",
    "plt.show()"
   ]
  },
  {
   "cell_type": "markdown",
   "metadata": {},
   "source": [
    "El mejor h para esta derivada es cualquiera menor o igual a $10^-4$"
   ]
  },
  {
   "cell_type": "code",
   "execution_count": 65,
   "metadata": {},
   "outputs": [],
   "source": [
    "def predict(alpha, X, kernel, x):\n",
    "    K=[]\n",
    "    for i in range(len(X)):\n",
    "        K.append(kernel(X[i],x))\n",
    "    K=np.array(K)\n",
    "    result = np.dot(alpha,K)\n",
    "    return result\n",
    "\n",
    "def loss(alpha, X, kernel, x, y):\n",
    "    E=np.abs(y-predict(alpha,X,kernel,x))\n",
    "    return  E\n",
    "\n",
    "def num_de_dalpha(alpha, X, kernel, x, y, epsilon):\n",
    "    d_alpha = (loss(alpha+epsilon/2, X, kernel, x, y)-loss(alpha-epsilon/2, X, kernel, x, y))/epsilon\n",
    "    return d_alpha"
   ]
  },
  {
   "cell_type": "code",
   "execution_count": 71,
   "metadata": {},
   "outputs": [],
   "source": [
    "def k1(x, y):\n",
    "    return np.dot(x, y)\n",
    "\n",
    "def k2(x, y):\n",
    "    return (np.dot(x, y) + 1) ** 2\n",
    "\n",
    "def de_dalpha(alpha, X, kernel, x, y):\n",
    "    K=[]\n",
    "    for i in range(len(X)):\n",
    "        K.append(kernel(X[i],x))\n",
    "    K=np.array(K)\n",
    "    de = -np.sign(y-predict(alpha, X, kernel, x))*K\n",
    "    return de\n",
    "\n",
    "def test_de_dalpha(kernel):\n",
    "    num_tests = 100\n",
    "    epsilon = 0.0001\n",
    "    X = [[-2, -1],\n",
    "         [-1, 3],\n",
    "         [2.5, -1.5],\n",
    "         [4, 2]]\n",
    "    for i in range(num_tests):\n",
    "        talpha = np.random.randn(len(X))\n",
    "        tx = np.random.randn(2)\n",
    "        ty = np.random.randn(1)\n",
    "        if np.linalg.norm(de_dalpha(talpha, X, kernel, tx, ty) - num_de_dalpha(talpha, X, kernel, tx, ty, epsilon)) > epsilon:\n",
    "            return False\n",
    "    return True\n",
    "\n",
    "def test2():\n",
    "    return test_de_dalpha(k1) and test_de_dalpha(k2)"
   ]
  },
  {
   "cell_type": "code",
   "execution_count": 72,
   "metadata": {},
   "outputs": [
    {
     "data": {
      "text/plain": [
       "False"
      ]
     },
     "execution_count": 72,
     "metadata": {},
     "output_type": "execute_result"
    }
   ],
   "source": [
    "test_de_dalpha(k2)"
   ]
  },
  {
   "cell_type": "code",
   "execution_count": 74,
   "metadata": {},
   "outputs": [
    {
     "ename": "NameError",
     "evalue": "name 'alpha' is not defined",
     "output_type": "error",
     "traceback": [
      "\u001b[1;31m---------------------------------------------------------------------------\u001b[0m",
      "\u001b[1;31mNameError\u001b[0m                                 Traceback (most recent call last)",
      "\u001b[1;32m<ipython-input-74-d7470e0b67d7>\u001b[0m in \u001b[0;36m<module>\u001b[1;34m\u001b[0m\n\u001b[0;32m      6\u001b[0m \u001b[1;33m\u001b[0m\u001b[0m\n\u001b[0;32m      7\u001b[0m \u001b[1;32mfor\u001b[0m \u001b[0mx\u001b[0m \u001b[1;32min\u001b[0m \u001b[0mX\u001b[0m\u001b[1;33m:\u001b[0m\u001b[1;33m\u001b[0m\u001b[1;33m\u001b[0m\u001b[0m\n\u001b[1;32m----> 8\u001b[1;33m     \u001b[0mprint\u001b[0m\u001b[1;33m(\u001b[0m\u001b[0mpredict\u001b[0m\u001b[1;33m(\u001b[0m\u001b[0malpha\u001b[0m\u001b[1;33m,\u001b[0m \u001b[0mX\u001b[0m\u001b[1;33m,\u001b[0m \u001b[0mk2\u001b[0m\u001b[1;33m,\u001b[0m \u001b[0mx\u001b[0m\u001b[1;33m)\u001b[0m\u001b[1;33m)\u001b[0m\u001b[1;33m\u001b[0m\u001b[1;33m\u001b[0m\u001b[0m\n\u001b[0m",
      "\u001b[1;31mNameError\u001b[0m: name 'alpha' is not defined"
     ]
    }
   ],
   "source": [
    "def train(X, Y, epochs, eta, alpha_ini, kernel):\n",
    "    losses = []\n",
    "    alpha = alpha_ini\n",
    "    for epoch in range(epochs):\n",
    "        loss_tmp=0\n",
    "        for j in range(len(X)):\n",
    "            #forward propagation\n",
    "            prediction=predict(alpha,X,kernel,X[j]) # Here is the prediction function we show at the begining\n",
    "            #Back propagation\n",
    "            alpha-=   # Here we compute the derivatives times the learning rate and we subtract the value of alpha times its derivative\n",
    "        for j in range(len(x)):\n",
    "            loss_tmp+=loss(alpha, X, kernel, X[j], Y[j])\n",
    "        losses.append(loss_tmp)   \n",
    "    return alpha, losses\n",
    "\n",
    "X = [[-2, -1],\n",
    "     [-1, 3],\n",
    "     [2.5, -1.5],\n",
    "     [4, 2]]\n",
    "Y = [1, 1, 1, -1]\n",
    "\n",
    "for x in X:\n",
    "    print(predict(alpha, X, k2, x))"
   ]
  },
  {
   "cell_type": "code",
   "execution_count": null,
   "metadata": {},
   "outputs": [],
   "source": []
  }
 ],
 "metadata": {
  "kernelspec": {
   "display_name": "Python 3",
   "language": "python",
   "name": "python3"
  },
  "language_info": {
   "codemirror_mode": {
    "name": "ipython",
    "version": 3
   },
   "file_extension": ".py",
   "mimetype": "text/x-python",
   "name": "python",
   "nbconvert_exporter": "python",
   "pygments_lexer": "ipython3",
   "version": "3.7.3"
  }
 },
 "nbformat": 4,
 "nbformat_minor": 2
}
